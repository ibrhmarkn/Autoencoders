{
  "nbformat": 4,
  "nbformat_minor": 0,
  "metadata": {
    "colab": {
      "name": "AUTOENCODERS.ipynb",
      "provenance": []
    },
    "kernelspec": {
      "name": "python3",
      "display_name": "Python 3"
    },
    "language_info": {
      "name": "python"
    },
    "accelerator": "GPU"
  },
  "cells": [
    {
      "cell_type": "code",
      "metadata": {
        "id": "opTG-VGV3R8m"
      },
      "source": [
        "from keras.models import Model\n",
        "from keras.layers import Input, Dense\n",
        "from keras.datasets import fashion_mnist\n",
        "import matplotlib.pyplot as plt\n",
        "import json,codecs\n",
        "import warnings\n",
        "warnings.filterwarnings(\"ignore\")"
      ],
      "execution_count": 1,
      "outputs": []
    },
    {
      "cell_type": "markdown",
      "metadata": {
        "id": "MlZn9iF77ztF"
      },
      "source": [
        "Veri seti keras kütüphanesinde tanımlı oradan indiriyoruz."
      ]
    },
    {
      "cell_type": "code",
      "metadata": {
        "colab": {
          "base_uri": "https://localhost:8080/"
        },
        "id": "7ZnOG-ZM6fMl",
        "outputId": "df63412b-e2e4-44ce-e8bd-c9414d9796c6"
      },
      "source": [
        "(x_train, _ ),(x_test, _) = fashion_mnist.load_data()"
      ],
      "execution_count": 2,
      "outputs": [
        {
          "output_type": "stream",
          "text": [
            "Downloading data from https://storage.googleapis.com/tensorflow/tf-keras-datasets/train-labels-idx1-ubyte.gz\n",
            "32768/29515 [=================================] - 0s 0us/step\n",
            "Downloading data from https://storage.googleapis.com/tensorflow/tf-keras-datasets/train-images-idx3-ubyte.gz\n",
            "26427392/26421880 [==============================] - 0s 0us/step\n",
            "Downloading data from https://storage.googleapis.com/tensorflow/tf-keras-datasets/t10k-labels-idx1-ubyte.gz\n",
            "8192/5148 [===============================================] - 0s 0us/step\n",
            "Downloading data from https://storage.googleapis.com/tensorflow/tf-keras-datasets/t10k-images-idx3-ubyte.gz\n",
            "4423680/4422102 [==============================] - 0s 0us/step\n"
          ],
          "name": "stdout"
        }
      ]
    },
    {
      "cell_type": "code",
      "metadata": {
        "colab": {
          "base_uri": "https://localhost:8080/"
        },
        "id": "cCbgsbWd6x8U",
        "outputId": "a4e36055-2ba8-42b6-ecd0-1eb2dffc5c97"
      },
      "source": [
        "x_train.shape"
      ],
      "execution_count": 5,
      "outputs": [
        {
          "output_type": "execute_result",
          "data": {
            "text/plain": [
              "(60000, 28, 28)"
            ]
          },
          "metadata": {
            "tags": []
          },
          "execution_count": 5
        }
      ]
    },
    {
      "cell_type": "markdown",
      "metadata": {
        "id": "wdpQQSb077w6"
      },
      "source": [
        "Veri setinin tipini değiştiriyoruz"
      ]
    },
    {
      "cell_type": "code",
      "metadata": {
        "id": "SG0w9Sgy62oy"
      },
      "source": [
        "x_train = x_train.astype(\"float32\")/255"
      ],
      "execution_count": 7,
      "outputs": []
    },
    {
      "cell_type": "code",
      "metadata": {
        "id": "nfXMv-UE6-ny"
      },
      "source": [
        "x_test = x_test.astype(\"float32\")/255"
      ],
      "execution_count": 8,
      "outputs": []
    },
    {
      "cell_type": "markdown",
      "metadata": {
        "id": "aJQwC9hy8C33"
      },
      "source": [
        "Veri setini yeniden boyutlandırıyoruz."
      ]
    },
    {
      "cell_type": "code",
      "metadata": {
        "id": "HhBZ16zN7LWr"
      },
      "source": [
        "x_train = x_train.reshape((len(x_train),x_train.shape[1:][0]*x_train.shape[1:][1]))"
      ],
      "execution_count": 9,
      "outputs": []
    },
    {
      "cell_type": "code",
      "metadata": {
        "id": "xP8vSfkW7naT"
      },
      "source": [
        "x_test = x_test.reshape((len(x_test),x_test.shape[1:][0]*x_test.shape[1:][1]))"
      ],
      "execution_count": 11,
      "outputs": []
    },
    {
      "cell_type": "markdown",
      "metadata": {
        "id": "FsVsrKub8WlJ"
      },
      "source": [
        "Veri setimizden bir örnek inceleyelim."
      ]
    },
    {
      "cell_type": "code",
      "metadata": {
        "colab": {
          "base_uri": "https://localhost:8080/",
          "height": 248
        },
        "id": "pU_yDAaO8HMt",
        "outputId": "2e32de9f-0ef3-492a-b631-7f68b538ecb9"
      },
      "source": [
        "plt.imshow(x_train[1500].reshape(28,28))\n",
        "plt.axis(\"off\")\n",
        "plt.show()"
      ],
      "execution_count": 14,
      "outputs": [
        {
          "output_type": "display_data",
          "data": {
            "image/png": "[encoded data removed]",
            "text/plain": [
              "<Figure size 432x288 with 1 Axes>"
            ]
          },
          "metadata": {
            "tags": [],
            "needs_background": "light"
          }
        }
      ]
    },
    {
      "cell_type": "markdown",
      "metadata": {
        "id": "M5pyPoiL8xE9"
      },
      "source": [
        "Model Oluştruma"
      ]
    },
    {
      "cell_type": "code",
      "metadata": {
        "id": "HjNJWEUJ8cAD"
      },
      "source": [
        "input_img = Input(shape = (784,))"
      ],
      "execution_count": 15,
      "outputs": []
    },
    {
      "cell_type": "markdown",
      "metadata": {
        "id": "UQGEA7qP9Wuu"
      },
      "source": [
        "İki katmanı birleştirmek için önceki katmanı parantez içerisinde çalıştırıyoruz"
      ]
    },
    {
      "cell_type": "code",
      "metadata": {
        "id": "ZNJi2Cf_9NiB"
      },
      "source": [
        "encoded = Dense(32,activation='relu')(input_img)"
      ],
      "execution_count": 16,
      "outputs": []
    },
    {
      "cell_type": "code",
      "metadata": {
        "id": "r-0g-HBG9V-i"
      },
      "source": [
        "encoded  = Dense(16, activation='relu')(encoded)"
      ],
      "execution_count": 17,
      "outputs": []
    },
    {
      "cell_type": "code",
      "metadata": {
        "id": "J7jq7zYQ9oDj"
      },
      "source": [
        "decoded = Dense(32,activation='relu')(encoded)"
      ],
      "execution_count": 18,
      "outputs": []
    },
    {
      "cell_type": "code",
      "metadata": {
        "id": "7CgDb4CL94lj"
      },
      "source": [
        "decoded = Dense(784,activation='sigmoid')(decoded)"
      ],
      "execution_count": 19,
      "outputs": []
    },
    {
      "cell_type": "code",
      "metadata": {
        "id": "lUsfNsqe9-VW"
      },
      "source": [
        "autoencoder = Model(input_img,decoded)"
      ],
      "execution_count": 20,
      "outputs": []
    },
    {
      "cell_type": "code",
      "metadata": {
        "id": "9G_fo3Bi-HLF"
      },
      "source": [
        "autoencoder.compile(optimizer='rmsprop',loss='binary_crossentropy')"
      ],
      "execution_count": 21,
      "outputs": []
    },
    {
      "cell_type": "code",
      "metadata": {
        "colab": {
          "base_uri": "https://localhost:8080/"
        },
        "id": "i-WZiMdR-U8V",
        "outputId": "f90c2559-9823-4af1-eee4-ca2745e28248"
      },
      "source": [
        "hist = autoencoder.fit( x_train,x_train,epochs=200,batch_size=256,shuffle=True,validation_data= (x_train,x_train))"
      ],
      "execution_count": 22,
      "outputs": [
        {
          "output_type": "stream",
          "text": [
            "Epoch 1/200\n",
            "235/235 [==============================] - 5s 6ms/step - loss: 0.4703 - val_loss: 0.3518\n",
            "Epoch 2/200\n",
            "235/235 [==============================] - 1s 5ms/step - loss: 0.3434 - val_loss: 0.3271\n",
            "Epoch 3/200\n",
            "235/235 [==============================] - 1s 6ms/step - loss: 0.3253 - val_loss: 0.3205\n",
            "Epoch 4/200\n",
            "235/235 [==============================] - 1s 5ms/step - loss: 0.3192 - val_loss: 0.3163\n",
            "Epoch 5/200\n",
            "235/235 [==============================] - 1s 5ms/step - loss: 0.3154 - val_loss: 0.3129\n",
            "Epoch 6/200\n",
            "235/235 [==============================] - 1s 5ms/step - loss: 0.3126 - val_loss: 0.3104\n",
            "Epoch 7/200\n",
            "235/235 [==============================] - 1s 5ms/step - loss: 0.3099 - val_loss: 0.3080\n",
            "Epoch 8/200\n",
            "235/235 [==============================] - 1s 5ms/step - loss: 0.3087 - val_loss: 0.3068\n",
            "Epoch 9/200\n",
            "235/235 [==============================] - 1s 5ms/step - loss: 0.3069 - val_loss: 0.3060\n",
            "Epoch 10/200\n",
            "235/235 [==============================] - 1s 5ms/step - loss: 0.3061 - val_loss: 0.3076\n",
            "Epoch 11/200\n",
            "235/235 [==============================] - 1s 5ms/step - loss: 0.3044 - val_loss: 0.3075\n",
            "Epoch 12/200\n",
            "235/235 [==============================] - 1s 5ms/step - loss: 0.3038 - val_loss: 0.3027\n",
            "Epoch 13/200\n",
            "235/235 [==============================] - 1s 5ms/step - loss: 0.3026 - val_loss: 0.3048\n",
            "Epoch 14/200\n",
            "235/235 [==============================] - 1s 5ms/step - loss: 0.3016 - val_loss: 0.3001\n",
            "Epoch 15/200\n",
            "235/235 [==============================] - 1s 5ms/step - loss: 0.3012 - val_loss: 0.3010\n",
            "Epoch 16/200\n",
            "235/235 [==============================] - 1s 5ms/step - loss: 0.3003 - val_loss: 0.3014\n",
            "Epoch 17/200\n",
            "235/235 [==============================] - 1s 5ms/step - loss: 0.2992 - val_loss: 0.2993\n",
            "Epoch 18/200\n",
            "235/235 [==============================] - 1s 5ms/step - loss: 0.2992 - val_loss: 0.2981\n",
            "Epoch 19/200\n",
            "235/235 [==============================] - 1s 5ms/step - loss: 0.2993 - val_loss: 0.2998\n",
            "Epoch 20/200\n",
            "235/235 [==============================] - 1s 5ms/step - loss: 0.2983 - val_loss: 0.2980\n",
            "Epoch 21/200\n",
            "235/235 [==============================] - 1s 5ms/step - loss: 0.2979 - val_loss: 0.2980\n",
            "Epoch 22/200\n",
            "235/235 [==============================] - 1s 5ms/step - loss: 0.2974 - val_loss: 0.2965\n",
            "Epoch 23/200\n",
            "235/235 [==============================] - 1s 5ms/step - loss: 0.2971 - val_loss: 0.2960\n",
            "Epoch 24/200\n",
            "235/235 [==============================] - 1s 5ms/step - loss: 0.2968 - val_loss: 0.2957\n",
            "Epoch 25/200\n",
            "235/235 [==============================] - 1s 5ms/step - loss: 0.2956 - val_loss: 0.2960\n",
            "Epoch 26/200\n",
            "235/235 [==============================] - 1s 5ms/step - loss: 0.2969 - val_loss: 0.2955\n",
            "Epoch 27/200\n",
            "235/235 [==============================] - 1s 5ms/step - loss: 0.2965 - val_loss: 0.2956\n",
            "Epoch 28/200\n",
            "235/235 [==============================] - 1s 5ms/step - loss: 0.2953 - val_loss: 0.2965\n",
            "Epoch 29/200\n",
            "235/235 [==============================] - 1s 5ms/step - loss: 0.2950 - val_loss: 0.2947\n",
            "Epoch 30/200\n",
            "235/235 [==============================] - 1s 5ms/step - loss: 0.2950 - val_loss: 0.2963\n",
            "Epoch 31/200\n",
            "235/235 [==============================] - 1s 5ms/step - loss: 0.2948 - val_loss: 0.2939\n",
            "Epoch 32/200\n",
            "235/235 [==============================] - 1s 5ms/step - loss: 0.2940 - val_loss: 0.2942\n",
            "Epoch 33/200\n",
            "235/235 [==============================] - 1s 5ms/step - loss: 0.2939 - val_loss: 0.2940\n",
            "Epoch 34/200\n",
            "235/235 [==============================] - 1s 5ms/step - loss: 0.2935 - val_loss: 0.2942\n",
            "Epoch 35/200\n",
            "235/235 [==============================] - 1s 5ms/step - loss: 0.2936 - val_loss: 0.2941\n",
            "Epoch 36/200\n",
            "235/235 [==============================] - 1s 5ms/step - loss: 0.2935 - val_loss: 0.2930\n",
            "Epoch 37/200\n",
            "235/235 [==============================] - 1s 5ms/step - loss: 0.2932 - val_loss: 0.2941\n",
            "Epoch 38/200\n",
            "235/235 [==============================] - 1s 5ms/step - loss: 0.2933 - val_loss: 0.2924\n",
            "Epoch 39/200\n",
            "235/235 [==============================] - 1s 5ms/step - loss: 0.2926 - val_loss: 0.2926\n",
            "Epoch 40/200\n",
            "235/235 [==============================] - 1s 5ms/step - loss: 0.2922 - val_loss: 0.2932\n",
            "Epoch 41/200\n",
            "235/235 [==============================] - 1s 5ms/step - loss: 0.2928 - val_loss: 0.2933\n",
            "Epoch 42/200\n",
            "235/235 [==============================] - 1s 5ms/step - loss: 0.2924 - val_loss: 0.2925\n",
            "Epoch 43/200\n",
            "235/235 [==============================] - 1s 5ms/step - loss: 0.2931 - val_loss: 0.2926\n",
            "Epoch 44/200\n",
            "235/235 [==============================] - 1s 5ms/step - loss: 0.2923 - val_loss: 0.2921\n",
            "Epoch 45/200\n",
            "235/235 [==============================] - 1s 5ms/step - loss: 0.2917 - val_loss: 0.2913\n",
            "Epoch 46/200\n",
            "235/235 [==============================] - 1s 5ms/step - loss: 0.2920 - val_loss: 0.2921\n",
            "Epoch 47/200\n",
            "235/235 [==============================] - 1s 5ms/step - loss: 0.2921 - val_loss: 0.2921\n",
            "Epoch 48/200\n",
            "235/235 [==============================] - 1s 5ms/step - loss: 0.2912 - val_loss: 0.2917\n",
            "Epoch 49/200\n",
            "235/235 [==============================] - 1s 5ms/step - loss: 0.2914 - val_loss: 0.2918\n",
            "Epoch 50/200\n",
            "235/235 [==============================] - 1s 5ms/step - loss: 0.2916 - val_loss: 0.2909\n",
            "Epoch 51/200\n",
            "235/235 [==============================] - 1s 5ms/step - loss: 0.2912 - val_loss: 0.2918\n",
            "Epoch 52/200\n",
            "235/235 [==============================] - 1s 5ms/step - loss: 0.2910 - val_loss: 0.2912\n",
            "Epoch 53/200\n",
            "235/235 [==============================] - 1s 5ms/step - loss: 0.2906 - val_loss: 0.2915\n",
            "Epoch 54/200\n",
            "235/235 [==============================] - 1s 5ms/step - loss: 0.2920 - val_loss: 0.2907\n",
            "Epoch 55/200\n",
            "235/235 [==============================] - 1s 5ms/step - loss: 0.2914 - val_loss: 0.2911\n",
            "Epoch 56/200\n",
            "235/235 [==============================] - 1s 5ms/step - loss: 0.2907 - val_loss: 0.2911\n",
            "Epoch 57/200\n",
            "235/235 [==============================] - 1s 5ms/step - loss: 0.2907 - val_loss: 0.2918\n",
            "Epoch 58/200\n",
            "235/235 [==============================] - 1s 6ms/step - loss: 0.2907 - val_loss: 0.2903\n",
            "Epoch 59/200\n",
            "235/235 [==============================] - 1s 5ms/step - loss: 0.2907 - val_loss: 0.2910\n",
            "Epoch 60/200\n",
            "235/235 [==============================] - 1s 6ms/step - loss: 0.2909 - val_loss: 0.2907\n",
            "Epoch 61/200\n",
            "235/235 [==============================] - 1s 5ms/step - loss: 0.2903 - val_loss: 0.2904\n",
            "Epoch 62/200\n",
            "235/235 [==============================] - 1s 5ms/step - loss: 0.2901 - val_loss: 0.2900\n",
            "Epoch 63/200\n",
            "235/235 [==============================] - 1s 5ms/step - loss: 0.2917 - val_loss: 0.2905\n",
            "Epoch 64/200\n",
            "235/235 [==============================] - 1s 5ms/step - loss: 0.2907 - val_loss: 0.2892\n",
            "Epoch 65/200\n",
            "235/235 [==============================] - 1s 5ms/step - loss: 0.2899 - val_loss: 0.2893\n",
            "Epoch 66/200\n",
            "235/235 [==============================] - 1s 5ms/step - loss: 0.2904 - val_loss: 0.2907\n",
            "Epoch 67/200\n",
            "235/235 [==============================] - 1s 5ms/step - loss: 0.2903 - val_loss: 0.2901\n",
            "Epoch 68/200\n",
            "235/235 [==============================] - 1s 5ms/step - loss: 0.2902 - val_loss: 0.2894\n",
            "Epoch 69/200\n",
            "235/235 [==============================] - 1s 5ms/step - loss: 0.2905 - val_loss: 0.2900\n",
            "Epoch 70/200\n",
            "235/235 [==============================] - 1s 5ms/step - loss: 0.2898 - val_loss: 0.2901\n",
            "Epoch 71/200\n",
            "235/235 [==============================] - 1s 5ms/step - loss: 0.2899 - val_loss: 0.2896\n",
            "Epoch 72/200\n",
            "235/235 [==============================] - 1s 5ms/step - loss: 0.2902 - val_loss: 0.2894\n",
            "Epoch 73/200\n",
            "235/235 [==============================] - 1s 5ms/step - loss: 0.2897 - val_loss: 0.2904\n",
            "Epoch 74/200\n",
            "235/235 [==============================] - 1s 5ms/step - loss: 0.2899 - val_loss: 0.2905\n",
            "Epoch 75/200\n",
            "235/235 [==============================] - 1s 5ms/step - loss: 0.2893 - val_loss: 0.2895\n",
            "Epoch 76/200\n",
            "235/235 [==============================] - 1s 5ms/step - loss: 0.2896 - val_loss: 0.2898\n",
            "Epoch 77/200\n",
            "235/235 [==============================] - 1s 5ms/step - loss: 0.2890 - val_loss: 0.2892\n",
            "Epoch 78/200\n",
            "235/235 [==============================] - 1s 5ms/step - loss: 0.2901 - val_loss: 0.2898\n",
            "Epoch 79/200\n",
            "235/235 [==============================] - 1s 5ms/step - loss: 0.2896 - val_loss: 0.2893\n",
            "Epoch 80/200\n",
            "235/235 [==============================] - 1s 5ms/step - loss: 0.2895 - val_loss: 0.2901\n",
            "Epoch 81/200\n",
            "235/235 [==============================] - 1s 5ms/step - loss: 0.2890 - val_loss: 0.2887\n",
            "Epoch 82/200\n",
            "235/235 [==============================] - 1s 5ms/step - loss: 0.2893 - val_loss: 0.2901\n",
            "Epoch 83/200\n",
            "235/235 [==============================] - 1s 5ms/step - loss: 0.2891 - val_loss: 0.2894\n",
            "Epoch 84/200\n",
            "235/235 [==============================] - 1s 5ms/step - loss: 0.2892 - val_loss: 0.2891\n",
            "Epoch 85/200\n",
            "235/235 [==============================] - 1s 5ms/step - loss: 0.2892 - val_loss: 0.2889\n",
            "Epoch 86/200\n",
            "235/235 [==============================] - 1s 5ms/step - loss: 0.2895 - val_loss: 0.2890\n",
            "Epoch 87/200\n",
            "235/235 [==============================] - 1s 5ms/step - loss: 0.2897 - val_loss: 0.2895\n",
            "Epoch 88/200\n",
            "235/235 [==============================] - 1s 5ms/step - loss: 0.2892 - val_loss: 0.2893\n",
            "Epoch 89/200\n",
            "235/235 [==============================] - 1s 5ms/step - loss: 0.2892 - val_loss: 0.2893\n",
            "Epoch 90/200\n",
            "235/235 [==============================] - 1s 5ms/step - loss: 0.2887 - val_loss: 0.2898\n",
            "Epoch 91/200\n",
            "235/235 [==============================] - 1s 5ms/step - loss: 0.2893 - val_loss: 0.2881\n",
            "Epoch 92/200\n",
            "235/235 [==============================] - 1s 5ms/step - loss: 0.2890 - val_loss: 0.2891\n",
            "Epoch 93/200\n",
            "235/235 [==============================] - 1s 5ms/step - loss: 0.2888 - val_loss: 0.2889\n",
            "Epoch 94/200\n",
            "235/235 [==============================] - 1s 5ms/step - loss: 0.2892 - val_loss: 0.2889\n",
            "Epoch 95/200\n",
            "235/235 [==============================] - 1s 5ms/step - loss: 0.2891 - val_loss: 0.2889\n",
            "Epoch 96/200\n",
            "235/235 [==============================] - 1s 5ms/step - loss: 0.2893 - val_loss: 0.2890\n",
            "Epoch 97/200\n",
            "235/235 [==============================] - 1s 5ms/step - loss: 0.2880 - val_loss: 0.2888\n",
            "Epoch 98/200\n",
            "235/235 [==============================] - 1s 5ms/step - loss: 0.2878 - val_loss: 0.2892\n",
            "Epoch 99/200\n",
            "235/235 [==============================] - 1s 5ms/step - loss: 0.2894 - val_loss: 0.2885\n",
            "Epoch 100/200\n",
            "235/235 [==============================] - 1s 5ms/step - loss: 0.2892 - val_loss: 0.2897\n",
            "Epoch 101/200\n",
            "235/235 [==============================] - 1s 5ms/step - loss: 0.2888 - val_loss: 0.2883\n",
            "Epoch 102/200\n",
            "235/235 [==============================] - 1s 5ms/step - loss: 0.2886 - val_loss: 0.2890\n",
            "Epoch 103/200\n",
            "235/235 [==============================] - 1s 5ms/step - loss: 0.2888 - val_loss: 0.2894\n",
            "Epoch 104/200\n",
            "235/235 [==============================] - 1s 5ms/step - loss: 0.2890 - val_loss: 0.2882\n",
            "Epoch 105/200\n",
            "235/235 [==============================] - 1s 5ms/step - loss: 0.2886 - val_loss: 0.2908\n",
            "Epoch 106/200\n",
            "235/235 [==============================] - 1s 5ms/step - loss: 0.2883 - val_loss: 0.2891\n",
            "Epoch 107/200\n",
            "235/235 [==============================] - 1s 5ms/step - loss: 0.2880 - val_loss: 0.2883\n",
            "Epoch 108/200\n",
            "235/235 [==============================] - 1s 5ms/step - loss: 0.2880 - val_loss: 0.2888\n",
            "Epoch 109/200\n",
            "235/235 [==============================] - 1s 5ms/step - loss: 0.2887 - val_loss: 0.2887\n",
            "Epoch 110/200\n",
            "235/235 [==============================] - 1s 5ms/step - loss: 0.2887 - val_loss: 0.2875\n",
            "Epoch 111/200\n",
            "235/235 [==============================] - 1s 5ms/step - loss: 0.2885 - val_loss: 0.2888\n",
            "Epoch 112/200\n",
            "235/235 [==============================] - 1s 5ms/step - loss: 0.2879 - val_loss: 0.2894\n",
            "Epoch 113/200\n",
            "235/235 [==============================] - 1s 5ms/step - loss: 0.2884 - val_loss: 0.2883\n",
            "Epoch 114/200\n",
            "235/235 [==============================] - 1s 5ms/step - loss: 0.2880 - val_loss: 0.2881\n",
            "Epoch 115/200\n",
            "235/235 [==============================] - 1s 5ms/step - loss: 0.2880 - val_loss: 0.2884\n",
            "Epoch 116/200\n",
            "235/235 [==============================] - 1s 5ms/step - loss: 0.2881 - val_loss: 0.2885\n",
            "Epoch 117/200\n",
            "235/235 [==============================] - 1s 5ms/step - loss: 0.2882 - val_loss: 0.2879\n",
            "Epoch 118/200\n",
            "235/235 [==============================] - 1s 5ms/step - loss: 0.2881 - val_loss: 0.2886\n",
            "Epoch 119/200\n",
            "235/235 [==============================] - 1s 5ms/step - loss: 0.2877 - val_loss: 0.2882\n",
            "Epoch 120/200\n",
            "235/235 [==============================] - 1s 5ms/step - loss: 0.2879 - val_loss: 0.2888\n",
            "Epoch 121/200\n",
            "235/235 [==============================] - 1s 5ms/step - loss: 0.2890 - val_loss: 0.2877\n",
            "Epoch 122/200\n",
            "235/235 [==============================] - 1s 5ms/step - loss: 0.2878 - val_loss: 0.2882\n",
            "Epoch 123/200\n",
            "235/235 [==============================] - 1s 5ms/step - loss: 0.2880 - val_loss: 0.2893\n",
            "Epoch 124/200\n",
            "235/235 [==============================] - 1s 5ms/step - loss: 0.2884 - val_loss: 0.2889\n",
            "Epoch 125/200\n",
            "235/235 [==============================] - 1s 5ms/step - loss: 0.2874 - val_loss: 0.2880\n",
            "Epoch 126/200\n",
            "235/235 [==============================] - 1s 5ms/step - loss: 0.2875 - val_loss: 0.2883\n",
            "Epoch 127/200\n",
            "235/235 [==============================] - 1s 5ms/step - loss: 0.2875 - val_loss: 0.2881\n",
            "Epoch 128/200\n",
            "235/235 [==============================] - 1s 5ms/step - loss: 0.2877 - val_loss: 0.2886\n",
            "Epoch 129/200\n",
            "235/235 [==============================] - 1s 5ms/step - loss: 0.2874 - val_loss: 0.2880\n",
            "Epoch 130/200\n",
            "235/235 [==============================] - 1s 5ms/step - loss: 0.2880 - val_loss: 0.2875\n",
            "Epoch 131/200\n",
            "235/235 [==============================] - 1s 5ms/step - loss: 0.2882 - val_loss: 0.2876\n",
            "Epoch 132/200\n",
            "235/235 [==============================] - 1s 5ms/step - loss: 0.2882 - val_loss: 0.2886\n",
            "Epoch 133/200\n",
            "235/235 [==============================] - 1s 5ms/step - loss: 0.2878 - val_loss: 0.2886\n",
            "Epoch 134/200\n",
            "235/235 [==============================] - 1s 5ms/step - loss: 0.2876 - val_loss: 0.2894\n",
            "Epoch 135/200\n",
            "235/235 [==============================] - 1s 5ms/step - loss: 0.2876 - val_loss: 0.2879\n",
            "Epoch 136/200\n",
            "235/235 [==============================] - 1s 5ms/step - loss: 0.2873 - val_loss: 0.2869\n",
            "Epoch 137/200\n",
            "235/235 [==============================] - 1s 5ms/step - loss: 0.2877 - val_loss: 0.2885\n",
            "Epoch 138/200\n",
            "235/235 [==============================] - 1s 5ms/step - loss: 0.2874 - val_loss: 0.2873\n",
            "Epoch 139/200\n",
            "235/235 [==============================] - 1s 5ms/step - loss: 0.2876 - val_loss: 0.2884\n",
            "Epoch 140/200\n",
            "235/235 [==============================] - 1s 5ms/step - loss: 0.2876 - val_loss: 0.2879\n",
            "Epoch 141/200\n",
            "235/235 [==============================] - 1s 5ms/step - loss: 0.2877 - val_loss: 0.2876\n",
            "Epoch 142/200\n",
            "235/235 [==============================] - 1s 5ms/step - loss: 0.2871 - val_loss: 0.2874\n",
            "Epoch 143/200\n",
            "235/235 [==============================] - 1s 5ms/step - loss: 0.2875 - val_loss: 0.2883\n",
            "Epoch 144/200\n",
            "235/235 [==============================] - 1s 5ms/step - loss: 0.2871 - val_loss: 0.2878\n",
            "Epoch 145/200\n",
            "235/235 [==============================] - 1s 5ms/step - loss: 0.2871 - val_loss: 0.2876\n",
            "Epoch 146/200\n",
            "235/235 [==============================] - 1s 5ms/step - loss: 0.2881 - val_loss: 0.2876\n",
            "Epoch 147/200\n",
            "235/235 [==============================] - 1s 5ms/step - loss: 0.2876 - val_loss: 0.2872\n",
            "Epoch 148/200\n",
            "235/235 [==============================] - 1s 5ms/step - loss: 0.2868 - val_loss: 0.2874\n",
            "Epoch 149/200\n",
            "235/235 [==============================] - 1s 5ms/step - loss: 0.2878 - val_loss: 0.2875\n",
            "Epoch 150/200\n",
            "235/235 [==============================] - 1s 6ms/step - loss: 0.2875 - val_loss: 0.2880\n",
            "Epoch 151/200\n",
            "235/235 [==============================] - 1s 6ms/step - loss: 0.2877 - val_loss: 0.2878\n",
            "Epoch 152/200\n",
            "235/235 [==============================] - 1s 5ms/step - loss: 0.2876 - val_loss: 0.2869\n",
            "Epoch 153/200\n",
            "235/235 [==============================] - 1s 5ms/step - loss: 0.2873 - val_loss: 0.2882\n",
            "Epoch 154/200\n",
            "235/235 [==============================] - 1s 6ms/step - loss: 0.2865 - val_loss: 0.2878\n",
            "Epoch 155/200\n",
            "235/235 [==============================] - 1s 5ms/step - loss: 0.2876 - val_loss: 0.2883\n",
            "Epoch 156/200\n",
            "235/235 [==============================] - 1s 6ms/step - loss: 0.2876 - val_loss: 0.2881\n",
            "Epoch 157/200\n",
            "235/235 [==============================] - 1s 5ms/step - loss: 0.2877 - val_loss: 0.2868\n",
            "Epoch 158/200\n",
            "235/235 [==============================] - 1s 5ms/step - loss: 0.2874 - val_loss: 0.2883\n",
            "Epoch 159/200\n",
            "235/235 [==============================] - 1s 5ms/step - loss: 0.2869 - val_loss: 0.2875\n",
            "Epoch 160/200\n",
            "235/235 [==============================] - 1s 5ms/step - loss: 0.2873 - val_loss: 0.2882\n",
            "Epoch 161/200\n",
            "235/235 [==============================] - 1s 5ms/step - loss: 0.2876 - val_loss: 0.2874\n",
            "Epoch 162/200\n",
            "235/235 [==============================] - 1s 5ms/step - loss: 0.2868 - val_loss: 0.2881\n",
            "Epoch 163/200\n",
            "235/235 [==============================] - 1s 5ms/step - loss: 0.2871 - val_loss: 0.2885\n",
            "Epoch 164/200\n",
            "235/235 [==============================] - 1s 5ms/step - loss: 0.2876 - val_loss: 0.2879\n",
            "Epoch 165/200\n",
            "235/235 [==============================] - 1s 5ms/step - loss: 0.2873 - val_loss: 0.2883\n",
            "Epoch 166/200\n",
            "235/235 [==============================] - 1s 5ms/step - loss: 0.2869 - val_loss: 0.2884\n",
            "Epoch 167/200\n",
            "235/235 [==============================] - 1s 5ms/step - loss: 0.2876 - val_loss: 0.2872\n",
            "Epoch 168/200\n",
            "235/235 [==============================] - 1s 6ms/step - loss: 0.2867 - val_loss: 0.2872\n",
            "Epoch 169/200\n",
            "235/235 [==============================] - 1s 5ms/step - loss: 0.2872 - val_loss: 0.2879\n",
            "Epoch 170/200\n",
            "235/235 [==============================] - 1s 6ms/step - loss: 0.2871 - val_loss: 0.2875\n",
            "Epoch 171/200\n",
            "235/235 [==============================] - 1s 5ms/step - loss: 0.2870 - val_loss: 0.2876\n",
            "Epoch 172/200\n",
            "235/235 [==============================] - 1s 6ms/step - loss: 0.2875 - val_loss: 0.2873\n",
            "Epoch 173/200\n",
            "235/235 [==============================] - 1s 5ms/step - loss: 0.2867 - val_loss: 0.2875\n",
            "Epoch 174/200\n",
            "235/235 [==============================] - 1s 5ms/step - loss: 0.2871 - val_loss: 0.2868\n",
            "Epoch 175/200\n",
            "235/235 [==============================] - 1s 5ms/step - loss: 0.2873 - val_loss: 0.2886\n",
            "Epoch 176/200\n",
            "235/235 [==============================] - 1s 5ms/step - loss: 0.2871 - val_loss: 0.2871\n",
            "Epoch 177/200\n",
            "235/235 [==============================] - 1s 5ms/step - loss: 0.2872 - val_loss: 0.2874\n",
            "Epoch 178/200\n",
            "235/235 [==============================] - 1s 5ms/step - loss: 0.2871 - val_loss: 0.2874\n",
            "Epoch 179/200\n",
            "235/235 [==============================] - 1s 5ms/step - loss: 0.2868 - val_loss: 0.2878\n",
            "Epoch 180/200\n",
            "235/235 [==============================] - 1s 5ms/step - loss: 0.2868 - val_loss: 0.2877\n",
            "Epoch 181/200\n",
            "235/235 [==============================] - 1s 5ms/step - loss: 0.2872 - val_loss: 0.2876\n",
            "Epoch 182/200\n",
            "235/235 [==============================] - 1s 5ms/step - loss: 0.2875 - val_loss: 0.2882\n",
            "Epoch 183/200\n",
            "235/235 [==============================] - 1s 5ms/step - loss: 0.2870 - val_loss: 0.2874\n",
            "Epoch 184/200\n",
            "235/235 [==============================] - 1s 5ms/step - loss: 0.2874 - val_loss: 0.2873\n",
            "Epoch 185/200\n",
            "235/235 [==============================] - 1s 5ms/step - loss: 0.2872 - val_loss: 0.2879\n",
            "Epoch 186/200\n",
            "235/235 [==============================] - 1s 5ms/step - loss: 0.2867 - val_loss: 0.2871\n",
            "Epoch 187/200\n",
            "235/235 [==============================] - 1s 5ms/step - loss: 0.2878 - val_loss: 0.2869\n",
            "Epoch 188/200\n",
            "235/235 [==============================] - 1s 6ms/step - loss: 0.2874 - val_loss: 0.2869\n",
            "Epoch 189/200\n",
            "235/235 [==============================] - 1s 5ms/step - loss: 0.2870 - val_loss: 0.2872\n",
            "Epoch 190/200\n",
            "235/235 [==============================] - 1s 5ms/step - loss: 0.2872 - val_loss: 0.2873\n",
            "Epoch 191/200\n",
            "235/235 [==============================] - 1s 5ms/step - loss: 0.2873 - val_loss: 0.2868\n",
            "Epoch 192/200\n",
            "235/235 [==============================] - 1s 5ms/step - loss: 0.2873 - val_loss: 0.2871\n",
            "Epoch 193/200\n",
            "235/235 [==============================] - 1s 5ms/step - loss: 0.2874 - val_loss: 0.2872\n",
            "Epoch 194/200\n",
            "235/235 [==============================] - 1s 5ms/step - loss: 0.2867 - val_loss: 0.2872\n",
            "Epoch 195/200\n",
            "235/235 [==============================] - 1s 6ms/step - loss: 0.2868 - val_loss: 0.2871\n",
            "Epoch 196/200\n",
            "235/235 [==============================] - 1s 6ms/step - loss: 0.2869 - val_loss: 0.2872\n",
            "Epoch 197/200\n",
            "235/235 [==============================] - 1s 5ms/step - loss: 0.2870 - val_loss: 0.2872\n",
            "Epoch 198/200\n",
            "235/235 [==============================] - 1s 6ms/step - loss: 0.2871 - val_loss: 0.2863\n",
            "Epoch 199/200\n",
            "235/235 [==============================] - 1s 6ms/step - loss: 0.2864 - val_loss: 0.2872\n",
            "Epoch 200/200\n",
            "235/235 [==============================] - 1s 5ms/step - loss: 0.2870 - val_loss: 0.2871\n"
          ],
          "name": "stdout"
        }
      ]
    },
    {
      "cell_type": "markdown",
      "metadata": {
        "id": "5BxPFxdhAtnZ"
      },
      "source": [
        "Modelimizi kaydediyoruz"
      ]
    },
    {
      "cell_type": "code",
      "metadata": {
        "id": "YmRtI_QeAj7N"
      },
      "source": [
        "autoencoder.save_weights('autoencoders.h5')"
      ],
      "execution_count": 23,
      "outputs": []
    },
    {
      "cell_type": "markdown",
      "metadata": {
        "id": "Z0lLG4q9A7em"
      },
      "source": [
        "Modelin Değerlendirilmesi"
      ]
    },
    {
      "cell_type": "code",
      "metadata": {
        "colab": {
          "base_uri": "https://localhost:8080/"
        },
        "id": "DD7LSETtA57d",
        "outputId": "36f39407-144a-46f4-d2c2-35c3a1a31083"
      },
      "source": [
        "print(hist.history.keys())"
      ],
      "execution_count": 25,
      "outputs": [
        {
          "output_type": "stream",
          "text": [
            "dict_keys(['loss', 'val_loss'])\n"
          ],
          "name": "stdout"
        }
      ]
    },
    {
      "cell_type": "code",
      "metadata": {
        "colab": {
          "base_uri": "https://localhost:8080/",
          "height": 265
        },
        "id": "Yt2iYYepBEZK",
        "outputId": "957eac91-aa05-4078-e8c8-2caed761a84b"
      },
      "source": [
        "plt.plot(hist.history['loss'],label = 'Loss')\n",
        "plt.legend()\n",
        "plt.show()"
      ],
      "execution_count": 30,
      "outputs": [
        {
          "output_type": "display_data",
          "data": {
            "image/png": "[encoded data removed]",
            "text/plain": [
              "<Figure size 432x288 with 1 Axes>"
            ]
          },
          "metadata": {
            "tags": [],
            "needs_background": "light"
          }
        }
      ]
    },
    {
      "cell_type": "code",
      "metadata": {
        "colab": {
          "base_uri": "https://localhost:8080/",
          "height": 265
        },
        "id": "naoxTTItBV3d",
        "outputId": "95b2d2f6-5167-4bde-e508-41ba0a8357d0"
      },
      "source": [
        "plt.plot(hist.history['val_loss'],label = 'Valitaditon Loss')\n",
        "plt.legend()\n",
        "plt.show()"
      ],
      "execution_count": 31,
      "outputs": [
        {
          "output_type": "display_data",
          "data": {
            "image/png": "[encoded data removed]",
            "text/plain": [
              "<Figure size 432x288 with 1 Axes>"
            ]
          },
          "metadata": {
            "tags": [],
            "needs_background": "light"
          }
        }
      ]
    },
    {
      "cell_type": "code",
      "metadata": {
        "colab": {
          "base_uri": "https://localhost:8080/",
          "height": 265
        },
        "id": "vXFkqVx9CZ32",
        "outputId": "c5379a91-3e76-4411-ef16-80473b73a05a"
      },
      "source": [
        "plt.plot(hist.history['loss'],label = 'Loss')\n",
        "plt.plot(hist.history['val_loss'],label = 'Valitaditon Loss')\n",
        "plt.legend()\n",
        "plt.show()"
      ],
      "execution_count": 33,
      "outputs": [
        {
          "output_type": "display_data",
          "data": {
            "image/png": "[encoded data removed]",
            "text/plain": [
              "<Figure size 432x288 with 1 Axes>"
            ]
          },
          "metadata": {
            "tags": [],
            "needs_background": "light"
          }
        }
      ]
    },
    {
      "cell_type": "markdown",
      "metadata": {
        "id": "lc4naQVdByc1"
      },
      "source": [
        "History kaydetme"
      ]
    },
    {
      "cell_type": "code",
      "metadata": {
        "id": "4Tca5zYzBn9C"
      },
      "source": [
        "with open('autoencoders_hist.json','w') as f:\n",
        "  json.dump(hist.history,f)"
      ],
      "execution_count": 32,
      "outputs": []
    },
    {
      "cell_type": "markdown",
      "metadata": {
        "id": "DVRQ9IbPCjaf"
      },
      "source": [
        "Sonuçları test etme"
      ]
    },
    {
      "cell_type": "code",
      "metadata": {
        "colab": {
          "base_uri": "https://localhost:8080/",
          "height": 248
        },
        "id": "aPyXajhjCi-j",
        "outputId": "021970c4-fc1f-4723-e088-34cf55fb25d0"
      },
      "source": [
        "encoder = Model(input_img,encoded)\n",
        "encoded_img = encoder.predict(x_test)\n",
        "plt.imshow(x_test[1500].reshape(28,28))\n",
        "plt.axis('off')\n",
        "plt.show()"
      ],
      "execution_count": 34,
      "outputs": [
        {
          "output_type": "display_data",
          "data": {
            "image/png": "[encoded data removed]",
            "text/plain": [
              "<Figure size 432x288 with 1 Axes>"
            ]
          },
          "metadata": {
            "tags": [],
            "needs_background": "light"
          }
        }
      ]
    },
    {
      "cell_type": "code",
      "metadata": {
        "id": "657CdxqkDJlv"
      },
      "source": [
        "decoded_img = autoencoder.predict(x_test)"
      ],
      "execution_count": 35,
      "outputs": []
    },
    {
      "cell_type": "code",
      "metadata": {
        "colab": {
          "base_uri": "https://localhost:8080/",
          "height": 248
        },
        "id": "4mLBbQzrDijD",
        "outputId": "6bf4808c-d716-4147-a58c-db7280a3d302"
      },
      "source": [
        "n = 10  # How many digits we will display\n",
        "plt.figure(figsize=(20, 4))\n",
        "for i in range(n):\n",
        "    # Display original\n",
        "    ax = plt.subplot(2, n, i + 1)\n",
        "    plt.imshow(x_test[i].reshape(28, 28))\n",
        "    plt.gray()\n",
        "    ax.get_xaxis().set_visible(False)\n",
        "    ax.get_yaxis().set_visible(False)\n",
        "\n",
        "    # Display reconstruction\n",
        "    ax = plt.subplot(2, n, i + 1 + n)\n",
        "    plt.imshow(decoded_img[i].reshape(28, 28))\n",
        "    plt.gray()\n",
        "    ax.get_xaxis().set_visible(False)\n",
        "    ax.get_yaxis().set_visible(False)\n",
        "plt.show()"
      ],
      "execution_count": 37,
      "outputs": [
        {
          "output_type": "display_data",
          "data": {
            "image/png": "[encoded data removed]",
            "text/plain": [
              "<Figure size 1440x288 with 20 Axes>"
            ]
          },
          "metadata": {
            "tags": [],
            "needs_background": "light"
          }
        }
      ]
    }
  ]
}